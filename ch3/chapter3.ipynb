{
 "cells": [
  {
   "cell_type": "markdown",
   "metadata": {},
   "source": [
    "# Chapter 3: Linear Methods for Regression\n",
    "\n",
    "We have an input vector $X^T = (X_1, X_2, ..., X_p)$ and want to predict a real-valued ouput $Y$.  The linear regression model has the form\n",
    "\n",
    "$$ f(X) = \\beta_0 + \\sum_{j=1}^p \\, X_j \\, \\beta_j         \n",
    "\\tag{3.1}$$\n",
    "\n",
    "where the $\\beta_j$ are unknown parameters.  Note that if we add an element $X_0=1$ to $X^T = (1, X_1, X_2, ..., X_p)$ and absorb the *intercept* parameter $\\beta_0$ into the summation, we can write the regression model as a simple inner product\n",
    "\n",
    "$$ f(X) = \\sum_{j=0}^p \\, X_j \\, \\beta_j    \n",
    "\\tag{3.1a} $$\n",
    "\n",
    "Typically we have a set of training data $(x_1, y_1) ... (x_N, y_N)$ from which to estimate these parameters.  Each $x_i = (1, x_{i1}, x_{i2}, ...., x_{ip})^T$ is a vector of feature measurements for the $i$th case.  The most popular estimation method is *least squares*, in which we pick parameters $\\beta = (\\beta_0, \\beta_1, ..., \\beta_p)^T$ to minimize the residual sum of squares\n",
    "\n",
    "$$ \n",
    "\\begin{aligned}\n",
    "{\\rm RSS}(\\beta) &= \\sum_{i=1}^{N} \\left[y_i - f(x_i)\\right]^2 \\\\\n",
    "&= \\sum_{i=1}^{N} \\left[ y_i - \\sum_{j=0}^p \\, x_{ij} \\, \\beta_j \\right]^2\n",
    "\\end{aligned}\n",
    "\\tag{3.2}\n",
    "$$\n",
    "\n",
    "If we construct an $N \\times (p+1)$ matrix from the vectors $x_i$ (sometimes called the design matrix) we can express $RSS(\\beta)$ using only matrix operations\n",
    "\n",
    "$$\n",
    "{\\bf X} = \n",
    "\\begin{bmatrix}\n",
    "    1       & x_{11} & x_{12} & \\dots & x_{1p} \\\\\n",
    "    1       & x_{21} & x_{22} & \\dots & x_{2p} \\\\\n",
    "    \\vdots  & \\vdots & \\vdots & \\ddots & \\vdots \\\\\n",
    "    1       & x_{N1} & x_{N2} & \\dots & x_{Np}\n",
    "\\end{bmatrix}\n",
    "\\quad\n",
    "{\\bf y} = \n",
    "\\begin{bmatrix}\n",
    "    y_{1} \\\\\n",
    "    y_{2} \\\\\n",
    "    \\vdots \\\\\n",
    "    y_{N}\n",
    "\\end{bmatrix}\n",
    "\\quad\n",
    "\\beta = \n",
    "\\begin{bmatrix}\n",
    "    \\beta_{0} \\\\\n",
    "    \\beta_{1} \\\\\n",
    "    \\beta_{2} \\\\\n",
    "    \\vdots \\\\\n",
    "    \\beta_{p}\n",
    "\\end{bmatrix}\n",
    "$$\n",
    "\n",
    "$$ {\\rm RSS}(\\beta) = ({\\bf y} - {\\bf X} \\beta)^T ({\\bf y} - {\\bf X} \\beta) \n",
    "\\tag{3.3}$$\n",
    "\n",
    "This is a quadratic function in the $p+1$ parameters $\\beta$. Differentiating with respect to $\\beta$ we obtain\n",
    "\n",
    "$$\n",
    "\\begin{aligned}\n",
    "\\frac{\\partial {\\rm RSS}}{\\partial \\beta} &= -2 {\\bf X}^T ({\\bf y} - {\\bf X} \\beta) \\\\\n",
    "\\frac{\\partial^2 {\\rm RSS}}{\\partial \\beta \\, \\partial \\beta^T} &= 2 {\\bf X}^T {\\bf X}\n",
    "\\end{aligned}\n",
    "\\tag{3.4}\n",
    "$$\n",
    "\n",
    "Assuming (for the moment) that ${\\bf X}$ has full column rank (i.e. the columns=features are linearly independent), and hence ${\\bf X}^T {\\bf X}$ is positive definite, we set the first derivative to zero\n",
    "\n",
    "$$ {\\bf X}^T ({\\bf y} - {\\bf X} \\beta) = 0 \n",
    "\\tag{3.5}$$\n",
    "\n",
    "to obtain the unique solution\n",
    "\n",
    "$$ \n",
    "\\hat{\\beta} = ({\\bf X}^T {\\bf X})^{-1} {\\bf X}^T {\\bf y} \n",
    "\\tag{3.6}$$\n",
    "\n",
    "The fitted values at the training inputs are \n",
    "$$\\hat{\\bf y} = {\\bf X} \\hat{\\beta} = {\\bf X}({\\bf X}^T {\\bf X})^{-1} {\\bf X}^T {\\bf y} \n",
    "\\tag{3.7}\n",
    "$$\n",
    "\n",
    "Up to now we have made minimal assumptions about the true distribution of the data.  In order to pin down the sampling properties of $\\hat{\\beta}$, we now assume that the observations $y_i$ are uncorrelated and have constant variance $\\sigma^2$, and that the $x_i$ are fixed (non random).  The covariance matrix of the least squares parameter estimates is easily derived from (3.6) and is given by\n",
    "\n",
    "$$ {\\rm Var}(\\hat{\\beta}) = ({\\bf X}^T {\\bf X})^{-1} \\sigma^2 \n",
    "\\tag{3.8}$$\n",
    "\n",
    "Typically one estimates the variance $\\sigma^2$ by \n",
    "\n",
    "$$ \\hat{\\sigma}^2 = \n",
    "\\frac{\\sum_{i=1}^{N}\\left( y_i - \\hat{y}_i \\right)^2} {N - p - 1} = \n",
    "\\frac{({\\bf y} - {\\bf \\hat{y}})^T ({\\bf y} - {\\bf \\hat{y}})} {N - p - 1}\n",
    "$$\n",
    "\n",
    "The $N - p - 1$ rather than $N$ in the denominator makes $\\hat{\\sigma}^2$ an unbiased estimate of $\\sigma^2: {\\rm E}(\\hat{\\sigma}^2) = \\sigma^2$.  \n",
    "\n",
    "To test the hypothesis that a particular parameter $\\beta_j=0$, we form the standardized parameter or *Z-score*\n",
    "\n",
    "$$\n",
    "z_j = \\frac{\\hat{\\beta}_j}{\\hat{\\sigma} \\sqrt{v_j}} = \n",
    "\\frac{\\hat{\\beta}_j}{\\sqrt{diag \\left( {\\rm Var}(\\hat{\\beta}) \\right)_j}} \n",
    "\\tag{3.12}\n",
    "$$\n",
    "\n",
    "where $v_j$ is the $j$th diagonal element of $({\\bf X}^T {\\bf X})^{-1}$."
   ]
  },
  {
   "cell_type": "markdown",
   "metadata": {},
   "source": [
    "# Prostate Data Example\n",
    "\n",
    "Lets explore the prostate data set provided at the book website https://statweb.stanford.edu/~tibs/ElemStatLearn/data.html"
   ]
  },
  {
   "cell_type": "code",
   "execution_count": 1,
   "metadata": {
    "collapsed": false
   },
   "outputs": [],
   "source": [
    "import pandas\n",
    "import numpy as np\n",
    "import sklearn\n",
    "from sklearn import linear_model\n",
    "import statsmodels.api as sm\n",
    "import statsmodels.formula.api as smf\n",
    "\n",
    "import seaborn as sns\n",
    "import matplotlib.pyplot as plt\n",
    "%matplotlib inline"
   ]
  },
  {
   "cell_type": "code",
   "execution_count": 2,
   "metadata": {
    "collapsed": false
   },
   "outputs": [],
   "source": [
    "df = pandas.read_csv('../data/prostate.data', delimiter='\\t', index_col=0)"
   ]
  },
  {
   "cell_type": "code",
   "execution_count": 3,
   "metadata": {
    "collapsed": false
   },
   "outputs": [
    {
     "data": {
      "text/html": [
       "<div>\n",
       "<table border=\"1\" class=\"dataframe\">\n",
       "  <thead>\n",
       "    <tr style=\"text-align: right;\">\n",
       "      <th></th>\n",
       "      <th>lcavol</th>\n",
       "      <th>lweight</th>\n",
       "      <th>age</th>\n",
       "      <th>lbph</th>\n",
       "      <th>svi</th>\n",
       "      <th>lcp</th>\n",
       "      <th>gleason</th>\n",
       "      <th>pgg45</th>\n",
       "      <th>lpsa</th>\n",
       "      <th>train</th>\n",
       "    </tr>\n",
       "  </thead>\n",
       "  <tbody>\n",
       "    <tr>\n",
       "      <th>1</th>\n",
       "      <td>-0.579818</td>\n",
       "      <td>2.769459</td>\n",
       "      <td>50</td>\n",
       "      <td>-1.386294</td>\n",
       "      <td>0</td>\n",
       "      <td>-1.386294</td>\n",
       "      <td>6</td>\n",
       "      <td>0</td>\n",
       "      <td>-0.430783</td>\n",
       "      <td>T</td>\n",
       "    </tr>\n",
       "    <tr>\n",
       "      <th>2</th>\n",
       "      <td>-0.994252</td>\n",
       "      <td>3.319626</td>\n",
       "      <td>58</td>\n",
       "      <td>-1.386294</td>\n",
       "      <td>0</td>\n",
       "      <td>-1.386294</td>\n",
       "      <td>6</td>\n",
       "      <td>0</td>\n",
       "      <td>-0.162519</td>\n",
       "      <td>T</td>\n",
       "    </tr>\n",
       "    <tr>\n",
       "      <th>3</th>\n",
       "      <td>-0.510826</td>\n",
       "      <td>2.691243</td>\n",
       "      <td>74</td>\n",
       "      <td>-1.386294</td>\n",
       "      <td>0</td>\n",
       "      <td>-1.386294</td>\n",
       "      <td>7</td>\n",
       "      <td>20</td>\n",
       "      <td>-0.162519</td>\n",
       "      <td>T</td>\n",
       "    </tr>\n",
       "    <tr>\n",
       "      <th>4</th>\n",
       "      <td>-1.203973</td>\n",
       "      <td>3.282789</td>\n",
       "      <td>58</td>\n",
       "      <td>-1.386294</td>\n",
       "      <td>0</td>\n",
       "      <td>-1.386294</td>\n",
       "      <td>6</td>\n",
       "      <td>0</td>\n",
       "      <td>-0.162519</td>\n",
       "      <td>T</td>\n",
       "    </tr>\n",
       "    <tr>\n",
       "      <th>5</th>\n",
       "      <td>0.751416</td>\n",
       "      <td>3.432373</td>\n",
       "      <td>62</td>\n",
       "      <td>-1.386294</td>\n",
       "      <td>0</td>\n",
       "      <td>-1.386294</td>\n",
       "      <td>6</td>\n",
       "      <td>0</td>\n",
       "      <td>0.371564</td>\n",
       "      <td>T</td>\n",
       "    </tr>\n",
       "  </tbody>\n",
       "</table>\n",
       "</div>"
      ],
      "text/plain": [
       "     lcavol   lweight  age      lbph  svi       lcp  gleason  pgg45      lpsa  \\\n",
       "1 -0.579818  2.769459   50 -1.386294    0 -1.386294        6      0 -0.430783   \n",
       "2 -0.994252  3.319626   58 -1.386294    0 -1.386294        6      0 -0.162519   \n",
       "3 -0.510826  2.691243   74 -1.386294    0 -1.386294        7     20 -0.162519   \n",
       "4 -1.203973  3.282789   58 -1.386294    0 -1.386294        6      0 -0.162519   \n",
       "5  0.751416  3.432373   62 -1.386294    0 -1.386294        6      0  0.371564   \n",
       "\n",
       "  train  \n",
       "1     T  \n",
       "2     T  \n",
       "3     T  \n",
       "4     T  \n",
       "5     T  "
      ]
     },
     "execution_count": 3,
     "metadata": {},
     "output_type": "execute_result"
    }
   ],
   "source": [
    "df.head()"
   ]
  },
  {
   "cell_type": "markdown",
   "metadata": {},
   "source": [
    "We have a target variable (`lpsa`), a boolean column splitting the data into train and test sets (`train`), and 8 predictor variables (all the rest).  Lets look at the training data and calculate some of its properties.  "
   ]
  },
  {
   "cell_type": "code",
   "execution_count": 4,
   "metadata": {
    "collapsed": false
   },
   "outputs": [
    {
     "name": "stdout",
     "output_type": "stream",
     "text": [
      "N(number of training samples)=67, p(number of features)=8\n"
     ]
    }
   ],
   "source": [
    "# pull out training set and split into predictor variables and the target variable\n",
    "predictors = ['lcavol', 'lweight', 'age', 'lbph', 'svi', 'lcp', 'gleason', 'pgg45']\n",
    "df_X = df.loc[df['train']=='T', predictors]\n",
    "# center on the means and scale to have unit standard deviation\n",
    "df_X = (df_X - df_X.mean()) / df_X.std()\n",
    "\n",
    "\n",
    "target = ['lpsa']\n",
    "df_y = df.loc[df['train']=='T', target]\n",
    "\n",
    "\n",
    "N, p = df_X.shape\n",
    "print('N(number of training samples)={}, p(number of features)={}'.format(N,p))"
   ]
  },
  {
   "cell_type": "code",
   "execution_count": 5,
   "metadata": {
    "collapsed": false
   },
   "outputs": [
    {
     "data": {
      "text/html": [
       "<div>\n",
       "<table border=\"1\" class=\"dataframe\">\n",
       "  <thead>\n",
       "    <tr style=\"text-align: right;\">\n",
       "      <th></th>\n",
       "      <th>lcavol</th>\n",
       "      <th>lweight</th>\n",
       "      <th>age</th>\n",
       "      <th>lbph</th>\n",
       "      <th>svi</th>\n",
       "      <th>lcp</th>\n",
       "      <th>gleason</th>\n",
       "      <th>pgg45</th>\n",
       "    </tr>\n",
       "  </thead>\n",
       "  <tbody>\n",
       "    <tr>\n",
       "      <th>lcavol</th>\n",
       "      <td>1.000000</td>\n",
       "      <td>0.300232</td>\n",
       "      <td>0.286324</td>\n",
       "      <td>0.063168</td>\n",
       "      <td>0.592949</td>\n",
       "      <td>0.692043</td>\n",
       "      <td>0.426414</td>\n",
       "      <td>0.483161</td>\n",
       "    </tr>\n",
       "    <tr>\n",
       "      <th>lweight</th>\n",
       "      <td>0.300232</td>\n",
       "      <td>1.000000</td>\n",
       "      <td>0.316723</td>\n",
       "      <td>0.437042</td>\n",
       "      <td>0.181054</td>\n",
       "      <td>0.156829</td>\n",
       "      <td>0.023558</td>\n",
       "      <td>0.074166</td>\n",
       "    </tr>\n",
       "    <tr>\n",
       "      <th>age</th>\n",
       "      <td>0.286324</td>\n",
       "      <td>0.316723</td>\n",
       "      <td>1.000000</td>\n",
       "      <td>0.287346</td>\n",
       "      <td>0.128902</td>\n",
       "      <td>0.172951</td>\n",
       "      <td>0.365915</td>\n",
       "      <td>0.275806</td>\n",
       "    </tr>\n",
       "    <tr>\n",
       "      <th>lbph</th>\n",
       "      <td>0.063168</td>\n",
       "      <td>0.437042</td>\n",
       "      <td>0.287346</td>\n",
       "      <td>1.000000</td>\n",
       "      <td>-0.139147</td>\n",
       "      <td>-0.088535</td>\n",
       "      <td>0.032992</td>\n",
       "      <td>-0.030404</td>\n",
       "    </tr>\n",
       "    <tr>\n",
       "      <th>svi</th>\n",
       "      <td>0.592949</td>\n",
       "      <td>0.181054</td>\n",
       "      <td>0.128902</td>\n",
       "      <td>-0.139147</td>\n",
       "      <td>1.000000</td>\n",
       "      <td>0.671240</td>\n",
       "      <td>0.306875</td>\n",
       "      <td>0.481358</td>\n",
       "    </tr>\n",
       "    <tr>\n",
       "      <th>lcp</th>\n",
       "      <td>0.692043</td>\n",
       "      <td>0.156829</td>\n",
       "      <td>0.172951</td>\n",
       "      <td>-0.088535</td>\n",
       "      <td>0.671240</td>\n",
       "      <td>1.000000</td>\n",
       "      <td>0.476437</td>\n",
       "      <td>0.662533</td>\n",
       "    </tr>\n",
       "    <tr>\n",
       "      <th>gleason</th>\n",
       "      <td>0.426414</td>\n",
       "      <td>0.023558</td>\n",
       "      <td>0.365915</td>\n",
       "      <td>0.032992</td>\n",
       "      <td>0.306875</td>\n",
       "      <td>0.476437</td>\n",
       "      <td>1.000000</td>\n",
       "      <td>0.757056</td>\n",
       "    </tr>\n",
       "    <tr>\n",
       "      <th>pgg45</th>\n",
       "      <td>0.483161</td>\n",
       "      <td>0.074166</td>\n",
       "      <td>0.275806</td>\n",
       "      <td>-0.030404</td>\n",
       "      <td>0.481358</td>\n",
       "      <td>0.662533</td>\n",
       "      <td>0.757056</td>\n",
       "      <td>1.000000</td>\n",
       "    </tr>\n",
       "  </tbody>\n",
       "</table>\n",
       "</div>"
      ],
      "text/plain": [
       "           lcavol   lweight       age      lbph       svi       lcp   gleason  \\\n",
       "lcavol   1.000000  0.300232  0.286324  0.063168  0.592949  0.692043  0.426414   \n",
       "lweight  0.300232  1.000000  0.316723  0.437042  0.181054  0.156829  0.023558   \n",
       "age      0.286324  0.316723  1.000000  0.287346  0.128902  0.172951  0.365915   \n",
       "lbph     0.063168  0.437042  0.287346  1.000000 -0.139147 -0.088535  0.032992   \n",
       "svi      0.592949  0.181054  0.128902 -0.139147  1.000000  0.671240  0.306875   \n",
       "lcp      0.692043  0.156829  0.172951 -0.088535  0.671240  1.000000  0.476437   \n",
       "gleason  0.426414  0.023558  0.365915  0.032992  0.306875  0.476437  1.000000   \n",
       "pgg45    0.483161  0.074166  0.275806 -0.030404  0.481358  0.662533  0.757056   \n",
       "\n",
       "            pgg45  \n",
       "lcavol   0.483161  \n",
       "lweight  0.074166  \n",
       "age      0.275806  \n",
       "lbph    -0.030404  \n",
       "svi      0.481358  \n",
       "lcp      0.662533  \n",
       "gleason  0.757056  \n",
       "pgg45    1.000000  "
      ]
     },
     "execution_count": 5,
     "metadata": {},
     "output_type": "execute_result"
    }
   ],
   "source": [
    "# lets check out the correlations (figure 3.1)\n",
    "corrmat = df_X.corr()\n",
    "corrmat"
   ]
  },
  {
   "cell_type": "code",
   "execution_count": 6,
   "metadata": {
    "collapsed": false
   },
   "outputs": [
    {
     "data": {
      "text/plain": [
       "<matplotlib.axes._subplots.AxesSubplot at 0x7fee5a5b0550>"
      ]
     },
     "execution_count": 6,
     "metadata": {},
     "output_type": "execute_result"
    },
    {
     "data": {
      "image/png": "[encoded data removed]",
      "text/plain": [
       "<matplotlib.figure.Figure at 0x7fee5aa47be0>"
      ]
     },
     "metadata": {},
     "output_type": "display_data"
    }
   ],
   "source": [
    "fig, ax = plt.subplots(figsize=(12,12))\n",
    "sns.heatmap(corrmat, square=True)"
   ]
  },
  {
   "cell_type": "markdown",
   "metadata": {},
   "source": [
    "# Numpy Approach"
   ]
  },
  {
   "cell_type": "code",
   "execution_count": 7,
   "metadata": {
    "collapsed": false
   },
   "outputs": [
    {
     "name": "stdout",
     "output_type": "stream",
     "text": [
      "sig2_hat= 0.5073514562053173\n",
      "shape(cvmat_beta_hat)= (9, 9)\n",
      "\n",
      "           coefficient   std_err      z_hat\n",
      "intercept     2.452345  0.087020  28.181527\n",
      "lcavol        0.716407  0.133501   5.366290\n",
      "lweight       0.292642  0.106385   2.750789\n",
      "age          -0.142550  0.102120  -1.395909\n",
      "lbph          0.212008  0.103124   2.055846\n",
      "svi           0.309620  0.125390   2.469255\n",
      "lcp          -0.289006  0.154804  -1.866913\n",
      "gleason      -0.020914  0.142578  -0.146681\n",
      "pgg45         0.277346  0.159592   1.737840\n"
     ]
    }
   ],
   "source": [
    "# casting these to matrices allows us to use \"*\" as matrix multiplication \n",
    "# as opposed to point-wise multiplication for numpy arrays. \n",
    "X = np.matrix(df_X.values)\n",
    "y = np.matrix(df_y.values)\n",
    "\n",
    "# add a column of ones so we don't have to treat the intercept differently\n",
    "X = np.c_[np.ones(X.shape[0]), X]\n",
    "\n",
    "# use the normal equation (Eq. 3.6) to calculate the coefficients and predictions\n",
    "beta_hat = np.linalg.pinv(X.T * X) * X.T * y\n",
    "y_hat = X * beta_hat\n",
    "\n",
    "# estimate the variance of y\n",
    "sig2_hat = float((y-y_hat).T*(y-y_hat)/(N-p-1))\n",
    "sig_hat = np.sqrt(sig2_hat)\n",
    "\n",
    "# calculate the covariance matrix of beta\n",
    "cvmat_beta_hat = np.linalg.inv(X.T * X) * sig2_hat\n",
    "\n",
    "# note <matrix>.A returns a numpy array of self\n",
    "#      <matrix>.A1 returns a flattened numpy array of self\n",
    "std_err = np.sqrt(cvmat_beta_hat.diagonal().A1)\n",
    "z_hat = beta_hat.A1 / std_err\n",
    "\n",
    "print('sig2_hat=',sig2_hat)\n",
    "print('shape(cvmat_beta_hat)=', cvmat_beta_hat.shape)\n",
    "\n",
    "df_coefs = pandas.DataFrame({\n",
    "        'coefficient': beta_hat.A1, \n",
    "        'std_err': std_err, \n",
    "        'z_hat': z_hat}, \n",
    "        index=['intercept']+predictors)\n",
    "print()\n",
    "print(df_coefs)\n",
    "\n"
   ]
  },
  {
   "cell_type": "code",
   "execution_count": 8,
   "metadata": {
    "collapsed": false
   },
   "outputs": [
    {
     "name": "stdout",
     "output_type": "stream",
     "text": [
      "0 2.45234508507 2.45234508507 -1.7763568394e-15\n",
      "1 0.71640701248 0.71640701248 8.881784197e-16\n",
      "2 0.29264240076 0.29264240076 5.55111512313e-16\n",
      "3 -0.142549625985 -0.142549625985 -1.38777878078e-16\n",
      "4 0.212007604489 0.212007604489 4.71844785466e-16\n",
      "5 0.309619533067 0.309619533067 0.0\n",
      "6 -0.289005615691 -0.289005615691 -4.99600361081e-16\n",
      "7 -0.0209135198219 -0.0209135198219 5.6898930012e-16\n",
      "8 0.277345952502 0.277345952502 -1.66533453694e-16\n"
     ]
    }
   ],
   "source": [
    "# compare the parameters to those calculated from scikit-learn\n",
    "# note \"fit_intercept=False\" means we dont need the value that \n",
    "# would usually be in mdl.intercept_ b/c we will have it as the \n",
    "# first element of mdl.coef_\n",
    "mdl = linear_model.LinearRegression(fit_intercept=False)\n",
    "mdl.fit(X, y)\n",
    "\n",
    "for i in range(mdl.coef_.shape[1]):\n",
    "    beta_hat_i = beta_hat[i,0] # (p+1 X 1) matrix\n",
    "    skt_i = mdl.coef_[0,i] # (1 X p+1) matrix\n",
    "    print(i, beta_hat_i, skt_i, beta_hat_i - skt_i)"
   ]
  },
  {
   "cell_type": "markdown",
   "metadata": {},
   "source": [
    "# Statsmodels Approach"
   ]
  },
  {
   "cell_type": "code",
   "execution_count": 9,
   "metadata": {
    "collapsed": false
   },
   "outputs": [
    {
     "name": "stdout",
     "output_type": "stream",
     "text": [
      "                            OLS Regression Results                            \n",
      "==============================================================================\n",
      "Dep. Variable:                   lpsa   R-squared:                       0.694\n",
      "Model:                            OLS   Adj. R-squared:                  0.652\n",
      "Method:                 Least Squares   F-statistic:                     16.47\n",
      "Date:                Sat, 27 May 2017   Prob (F-statistic):           2.04e-12\n",
      "Time:                        17:49:22   Log-Likelihood:                -67.505\n",
      "No. Observations:                  67   AIC:                             153.0\n",
      "Df Residuals:                      58   BIC:                             172.9\n",
      "Df Model:                           8                                         \n",
      "Covariance Type:            nonrobust                                         \n",
      "==============================================================================\n",
      "                 coef    std err          t      P>|t|      [95.0% Conf. Int.]\n",
      "------------------------------------------------------------------------------\n",
      "intercept      2.4523      0.087     28.182      0.000         2.278     2.627\n",
      "lcavol         0.7164      0.134      5.366      0.000         0.449     0.984\n",
      "lweight        0.2926      0.106      2.751      0.008         0.080     0.506\n",
      "age           -0.1425      0.102     -1.396      0.168        -0.347     0.062\n",
      "lbph           0.2120      0.103      2.056      0.044         0.006     0.418\n",
      "svi            0.3096      0.125      2.469      0.017         0.059     0.561\n",
      "lcp           -0.2890      0.155     -1.867      0.067        -0.599     0.021\n",
      "gleason       -0.0209      0.143     -0.147      0.884        -0.306     0.264\n",
      "pgg45          0.2773      0.160      1.738      0.088        -0.042     0.597\n",
      "==============================================================================\n",
      "Omnibus:                        0.825   Durbin-Watson:                   1.690\n",
      "Prob(Omnibus):                  0.662   Jarque-Bera (JB):                0.389\n",
      "Skew:                          -0.164   Prob(JB):                        0.823\n",
      "Kurtosis:                       3.178   Cond. No.                         4.44\n",
      "==============================================================================\n",
      "\n",
      "Warnings:\n",
      "[1] Standard Errors assume that the covariance matrix of the errors is correctly specified.\n"
     ]
    }
   ],
   "source": [
    "df_Xsm = df_X.copy()\n",
    "df_Xsm.insert(0, 'intercept', 1)\n",
    "results=sm.OLS(df_y, df_Xsm).fit()\n",
    "print(results.summary())"
   ]
  }
 ],
 "metadata": {
  "anaconda-cloud": {},
  "kernelspec": {
   "display_name": "Python [default]",
   "language": "python",
   "name": "python3"
  },
  "language_info": {
   "codemirror_mode": {
    "name": "ipython",
    "version": 3
   },
   "file_extension": ".py",
   "mimetype": "text/x-python",
   "name": "python",
   "nbconvert_exporter": "python",
   "pygments_lexer": "ipython3",
   "version": "3.5.2"
  }
 },
 "nbformat": 4,
 "nbformat_minor": 2
}
